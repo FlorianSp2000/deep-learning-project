{
 "cells": [
  {
   "cell_type": "code",
   "execution_count": 5,
   "id": "379c09d0-9de5-4ba1-bdd9-01879f638ac2",
   "metadata": {},
   "outputs": [],
   "source": [
    "import os\n",
    "import json\n",
    "from itertools import groupby\n",
    "from torch.optim import Adam\n",
    "from torch.nn import functional as nnf\n",
    "import torchvision.transforms as transforms\n",
    "from torchvision.transforms import ToTensor\n",
    "from tqdm import tqdm\n",
    "import torch\n",
    "from torch import nn\n",
    "\n",
    "import matplotlib.pyplot as plt\n",
    "\n",
    "import clip\n",
    "\n",
    "import numpy as np\n",
    "from os.path import join, isdir, expanduser\n",
    "from PIL import Image\n",
    "\n",
    "data_path = expanduser('~/datasets')"
   ]
  },
  {
   "cell_type": "code",
   "execution_count": 7,
   "id": "bf1aa206-1759-4cb4-abbb-0549e2c0b04e",
   "metadata": {},
   "outputs": [
    {
     "name": "stderr",
     "output_type": "stream",
     "text": [
      "A loading: 100%|██████████| 365/365 [00:03<00:00, 105.23it/s]\n",
      "B loading: 100%|██████████| 392/392 [00:03<00:00, 102.86it/s]\n",
      "A processing: 100%|██████████| 364/364 [00:48<00:00,  7.51it/s]\n",
      "B processing: 100%|██████████| 391/391 [00:59<00:00,  6.56it/s]\n",
      "A loading: 100%|██████████| 30/30 [00:00<00:00, 176.88it/s]\n",
      "B loading: 100%|██████████| 30/30 [00:00<00:00, 179.49it/s]\n",
      "A processing: 100%|██████████| 29/29 [00:02<00:00, 12.94it/s]\n",
      "B processing: 100%|██████████| 30/30 [00:02<00:00, 13.16it/s]\n"
     ]
    }
   ],
   "source": [
    "num_images = 1000\n",
    "test_size = 30\n",
    "size = (256,256)\n",
    "\n",
    "trainA_path = [\"share\", \"Florian_Jonas_construction\"]\n",
    "trainB_path = [\"share\", \"Florian_Jonas_finished\"]\n",
    "\n",
    "train_A_files = os.listdir(join(data_path, *trainA_path))\n",
    "train_B_files = os.listdir(join(data_path, *trainB_path))\n",
    "\n",
    "\n",
    "train_A_raw = [Image.open(join(data_path, *trainA_path, f)).resize(size)\n",
    "          for f in tqdm(train_A_files[test_size:num_images], desc=\"A loading\") if f.endswith('.jpg')]\n",
    "\n",
    "train_B_raw = [Image.open(join(data_path, *trainB_path, f)).resize(size)\n",
    "          for f in tqdm(train_B_files[test_size:num_images], desc=\"B loading\") if f.endswith('.jpg')]\n",
    "\n",
    "\n",
    "trans = transforms.Compose([\n",
    "            transforms.ToTensor(),\n",
    "            transforms.Normalize([0.48145466, 0.4578275, 0.40821073], [0.26862954, 0.26130258, 0.27577711])\n",
    "        ])\n",
    "\n",
    "train_A = [trans(img) for img in tqdm(train_A_raw, desc=\"A processing\") if trans(img).shape == (3, 256, 256)]\n",
    "train_B = [trans(img) for img in tqdm(train_B_raw, desc=\"B processing\") if trans(img).shape == (3, 256, 256)]\n",
    "\n",
    "torch.save(train_A, \"A.pt\")\n",
    "torch.save(train_B, \"B.pt\")\n",
    "\n",
    "\n",
    "train_A_raw = [Image.open(join(data_path, *trainA_path, f)).resize(size)\n",
    "          for f in tqdm(train_A_files[:test_size], desc=\"A loading\") if f.endswith('.jpg')]\n",
    "\n",
    "train_B_raw = [Image.open(join(data_path, *trainB_path, f)).resize(size)\n",
    "          for f in tqdm(train_B_files[:test_size], desc=\"B loading\") if f.endswith('.jpg')]\n",
    "\n",
    "\n",
    "trans = ToTensor()\n",
    "\n",
    "train_A = [trans(img) for img in tqdm(train_A_raw, desc=\"A processing\") if trans(img).shape == (3, 256, 256)]\n",
    "train_B = [trans(img) for img in tqdm(train_B_raw, desc=\"B processing\") if trans(img).shape == (3, 256, 256)]\n",
    "\n",
    "torch.save(train_A, \"A_test.pt\")\n",
    "torch.save(train_B, \"B_test.pt\")\n"
   ]
  }
 ],
 "metadata": {
  "kernelspec": {
   "display_name": "jonas_florian",
   "language": "python",
   "name": "jonas_florian"
  },
  "language_info": {
   "codemirror_mode": {
    "name": "ipython",
    "version": 3
   },
   "file_extension": ".py",
   "mimetype": "text/x-python",
   "name": "python",
   "nbconvert_exporter": "python",
   "pygments_lexer": "ipython3",
   "version": "3.8.12"
  }
 },
 "nbformat": 4,
 "nbformat_minor": 5
}
