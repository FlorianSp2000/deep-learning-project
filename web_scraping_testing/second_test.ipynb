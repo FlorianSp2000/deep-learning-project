{
 "cells": [
  {
   "cell_type": "code",
   "execution_count": 1,
   "id": "be8ac0b3-98d0-44bc-926d-bbaceebf4cba",
   "metadata": {},
   "outputs": [
    {
     "name": "stderr",
     "output_type": "stream",
     "text": [
      "2022-04-25 09:33:45,424 - INFO - icrawler.crawler - start crawling...\n",
      "2022-04-25 09:33:45,425 - INFO - icrawler.crawler - starting 1 feeder threads...\n",
      "2022-04-25 09:33:45,426 - INFO - feeder - thread feeder-001 exit\n",
      "2022-04-25 09:33:45,427 - INFO - icrawler.crawler - starting 1 parser threads...\n",
      "2022-04-25 09:33:45,429 - INFO - icrawler.crawler - starting 1 downloader threads...\n",
      "2022-04-25 09:33:46,151 - INFO - parser - parsing result page https://www.google.com/search?q=cat&ijn=0&start=0&tbs=&tbm=isch\n",
      "2022-04-25 09:33:46,438 - ERROR - downloader - Response status code 404, file https://upload.wikimedia.org/wikipedia/commons/thumb/3/3a/Cat03.jpg\n",
      "2022-04-25 09:33:46,512 - ERROR - downloader - Response status code 401, file https://i.guim.co.uk/img/media/26392d05302e02f7bf4eb143bb84c8097d09144b/446_167_3683_2210/master/3683.jpg\n",
      "2022-04-25 09:33:46,684 - ERROR - downloader - Response status code 404, file https://upload.wikimedia.org/wikipedia/commons/thumb/4/4d/Cat_November_2010-1a.jpg\n",
      "2022-04-25 09:33:47,228 - INFO - downloader - image #1\thttps://upload.wikimedia.org/wikipedia/commons/0/0b/Cat_poster_1.jpg\n",
      "2022-04-25 09:33:47,640 - INFO - downloader - downloaded images reach max num, thread downloader-001 is ready to exit\n",
      "2022-04-25 09:33:47,641 - INFO - downloader - thread downloader-001 exit\n",
      "2022-04-25 09:33:48,434 - INFO - icrawler.crawler - Crawling task done!\n",
      "2022-04-25 09:33:49,236 - INFO - parser - downloaded image reached max num, thread parser-001 is ready to exit\n",
      "2022-04-25 09:33:49,238 - INFO - parser - thread parser-001 exit\n"
     ]
    }
   ],
   "source": [
    "from icrawler.builtin import GoogleImageCrawler\n",
    "\n",
    "google_crawler = GoogleImageCrawler(storage={'root_dir': './data'})\n",
    "google_crawler.crawl(keyword='cat', max_num=1)"
   ]
  }
 ],
 "metadata": {
  "kernelspec": {
   "display_name": "jonas_florian",
   "language": "python",
   "name": "jonas_florian"
  },
  "language_info": {
   "codemirror_mode": {
    "name": "ipython",
    "version": 3
   },
   "file_extension": ".py",
   "mimetype": "text/x-python",
   "name": "python",
   "nbconvert_exporter": "python",
   "pygments_lexer": "ipython3",
   "version": "3.8.12"
  }
 },
 "nbformat": 4,
 "nbformat_minor": 5
}
