{
 "cells": [
  {
   "cell_type": "code",
   "execution_count": null,
   "id": "be8ac0b3-98d0-44bc-926d-bbaceebf4cba",
   "metadata": {},
   "outputs": [],
   "source": [
    "from icrawler.builtin import GoogleImageCrawler\n",
    "\n",
    "google_crawler = GoogleImageCrawler(storage={'root_dir': './images/skyscraper'})\n",
    "filters = dict(\n",
    "    size=\"=224x224\",\n",
    ")\n",
    "google_crawler.crawl(keyword='skyscraper in construction', filters=filters, max_num=50,)"
   ]
  },
  {
   "cell_type": "code",
   "execution_count": 30,
   "id": "47354010-d2aa-44a2-aefa-888b7ad1879d",
   "metadata": {},
   "outputs": [
    {
     "data": {
      "text/plain": [
       "'/'"
      ]
     },
     "execution_count": 30,
     "metadata": {},
     "output_type": "execute_result"
    }
   ],
   "source": [
    "# Get data by requests from yfcc100m dataset\n",
    "\n",
    "import requests\n",
    "import pandas as pd\n",
    "def get_images():\n",
    "\n",
    "    data = pd.read_csv(\"./buildingconstruction.tsv\", sep=\"\\t\", error_bad_lines=False)\n",
    "    data = data.rename(columns={'http://farm4.staticflickr.com/3055/2330466409_fc8133ec39.jpg': 'image_url'})\n",
    "    data = data['image_url']\n",
    "    # print(data.head(5))\n",
    "    for i, url in enumerate(data.tolist()[200:400]):\n",
    "        # response = requests.get(\"https://i.imgur.com/ExdKOOz.png\")\n",
    "        response = requests.get(url)\n",
    "        # print(response)\n",
    "        file = open(f\"./images/00{i}.jpg\", \"wb\")\n",
    "        file.write(response.content)\n",
    "        file.close()\n",
    "        # return response\n",
    "\n",
    "if __name__ == '__main__':\n",
    "     get_images()\n",
    "\n"
   ]
  },
  {
   "cell_type": "code",
   "execution_count": null,
   "id": "b8a9acea-0f16-4916-8a5e-cd46224a732c",
   "metadata": {},
   "outputs": [],
   "source": []
  }
 ],
 "metadata": {
  "kernelspec": {
   "display_name": "Python (myenv)",
   "language": "python",
   "name": "myenv"
  },
  "language_info": {
   "codemirror_mode": {
    "name": "ipython",
    "version": 3
   },
   "file_extension": ".py",
   "mimetype": "text/x-python",
   "name": "python",
   "nbconvert_exporter": "python",
   "pygments_lexer": "ipython3",
   "version": "3.8.12"
  }
 },
 "nbformat": 4,
 "nbformat_minor": 5
}
