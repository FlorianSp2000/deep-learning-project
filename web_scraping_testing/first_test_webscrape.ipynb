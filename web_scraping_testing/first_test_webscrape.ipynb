{
 "cells": [
  {
   "cell_type": "code",
   "execution_count": 2,
   "id": "c1dbdbdb-1ed2-4df4-a6af-336b3879b736",
   "metadata": {},
   "outputs": [],
   "source": [
    "import requests, lxml, re, json \n",
    "from bs4 import BeautifulSoup"
   ]
  },
  {
   "cell_type": "code",
   "execution_count": 5,
   "id": "072eed54-7bf5-4a26-a1ce-d77cc7a239b4",
   "metadata": {},
   "outputs": [],
   "source": [
    "headers = {\n",
    "    \"User-Agent\":\n",
    "    \"Mozilla/5.0 (Windows NT 10.0; Win64; x64) AppleWebKit/537.36 (KHTML, like Gecko) Chrome/70.0.3538.102 Safari/537.36 Edge/18.19582\"\n",
    "}\n",
    "\n",
    "search = \"cat\"\n",
    "\n",
    "Google_images_link = \"https://www.google.com/search?tbm=isch&q=\" + search\n",
    "\n",
    "\n",
    "html = requests.get(\"https://www.google.com/search\", headers=headers)\n",
    "soup = BeautifulSoup(html.text, 'lxml')"
   ]
  },
  {
   "cell_type": "code",
   "execution_count": 17,
   "id": "143e0608-fd17-46c2-9aa2-84bf786a184a",
   "metadata": {},
   "outputs": [
    {
     "name": "stdout",
     "output_type": "stream",
     "text": [
      "\n",
      "Google Images Metadata:\n"
     ]
    },
    {
     "data": {
      "text/plain": [
       "[]"
      ]
     },
     "execution_count": 17,
     "metadata": {},
     "output_type": "execute_result"
    }
   ],
   "source": [
    "def get_images_data():\n",
    "\n",
    "    print('\\nGoogle Images Metadata:')\n",
    "    for google_image in soup.select('.isv-r.PNCib.MSM1fd.BUooTd'):\n",
    "        title = google_image.select_one('.VFACy.kGQAp.sMi44c.lNHeqe.WGvvNb')['title']\n",
    "        source = google_image.select_one('.fxgdke').text\n",
    "        link = google_image.select_one('.VFACy.kGQAp.sMi44c.lNHeqe.WGvvNb')['href']\n",
    "        print(f'{title}\\n{source}\\n{link}\\n')\n",
    "\n",
    "    # this steps could be refactored to a more compact\n",
    "    all_script_tags = soup.select('script')\n",
    "    return all_script_tags\n",
    "\n",
    "    # # https://regex101.com/r/48UZhY/4\n",
    "    matched_images_data = ''.join(re.findall(r\"AF_initDataCallback\\(([^<]+)\\);\", str(all_script_tags)))\n",
    "    \n",
    "    # https://kodlogs.com/34776/json-decoder-jsondecodeerror-expecting-property-name-enclosed-in-double-quotes\n",
    "    # if you try to json.loads() without json.dumps it will throw an error:\n",
    "    # \"Expecting property name enclosed in double quotes\"\n",
    "    matched_images_data_fix = json.dumps(matched_images_data)\n",
    "    matched_images_data_json = json.loads(matched_images_data_fix)\n",
    "\n",
    "    # https://regex101.com/r/pdZOnW/3\n",
    "    matched_google_image_data = re.findall(r'\\[\\\"GRID_STATE0\\\",null,\\[\\[1,\\[0,\\\".*?\\\",(.*),\\\"All\\\",', matched_images_data_json)\n",
    "\n",
    "    # https://regex101.com/r/NnRg27/1\n",
    "    matched_google_images_thumbnails = ', '.join(\n",
    "        re.findall(r'\\[\\\"(https\\:\\/\\/encrypted-tbn0\\.gstatic\\.com\\/images\\?.*?)\\\",\\d+,\\d+\\]',\n",
    "                   str(matched_google_image_data))).split(', ')\n",
    "\n",
    "    print('Google Image Thumbnails:')  # in order\n",
    "    for fixed_google_image_thumbnail in matched_google_images_thumbnails:\n",
    "        # https://stackoverflow.com/a/4004439/15164646 comment by Frédéric Hamidi\n",
    "        google_image_thumbnail_not_fixed = bytes(fixed_google_image_thumbnail, 'ascii').decode('unicode-escape')\n",
    "\n",
    "        # after first decoding, Unicode characters are still present. After the second iteration, they were decoded.\n",
    "        google_image_thumbnail = bytes(google_image_thumbnail_not_fixed, 'ascii').decode('unicode-escape')\n",
    "        print(google_image_thumbnail)\n",
    "\n",
    "    # removing previously matched thumbnails for easier full resolution image matches.\n",
    "    removed_matched_google_images_thumbnails = re.sub(\n",
    "        r'\\[\\\"(https\\:\\/\\/encrypted-tbn0\\.gstatic\\.com\\/images\\?.*?)\\\",\\d+,\\d+\\]', '', str(matched_google_image_data))\n",
    "\n",
    "    # https://regex101.com/r/fXjfb1/4\n",
    "    # https://stackoverflow.com/a/19821774/15164646\n",
    "    matched_google_full_resolution_images = re.findall(r\"(?:'|,),\\[\\\"(https:|http.*?)\\\",\\d+,\\d+\\]\",\n",
    "                                                       removed_matched_google_images_thumbnails)\n",
    "\n",
    "\n",
    "    print('\\nDownloading Google Full Resolution Images:')  # in order\n",
    "    for index, fixed_full_res_image in enumerate(matched_google_full_resolution_images):\n",
    "        # https://stackoverflow.com/a/4004439/15164646 comment by Frédéric Hamidi\n",
    "        original_size_img_not_fixed = bytes(fixed_full_res_image, 'ascii').decode('unicode-escape')\n",
    "        original_size_img = bytes(original_size_img_not_fixed, 'ascii').decode('unicode-escape')\n",
    "        print(original_size_img)\n",
    "\n",
    "        # ------------------------------------------------\n",
    "        # Download original images\n",
    "\n",
    "        print(f'Downloading {index} image...')\n",
    "        \n",
    "        opener=urllib.request.build_opener()\n",
    "        opener.addheaders=[('User-Agent','Mozilla/5.0 (Windows NT 10.0; Win64; x64) AppleWebKit/537.36 (KHTML, like Gecko) Chrome/70.0.3538.102 Safari/537.36 Edge/18.19582')]\n",
    "        urllib.request.install_opener(opener)\n",
    "\n",
    "        urllib.request.urlretrieve(original_size_img, f'Images/original_size_img_{index}.jpg')\n",
    "\n",
    "\n",
    "get_images_data()"
   ]
  }
 ],
 "metadata": {
  "kernelspec": {
   "display_name": "jonas_florian",
   "language": "python",
   "name": "jonas_florian"
  },
  "language_info": {
   "codemirror_mode": {
    "name": "ipython",
    "version": 3
   },
   "file_extension": ".py",
   "mimetype": "text/x-python",
   "name": "python",
   "nbconvert_exporter": "python",
   "pygments_lexer": "ipython3",
   "version": "3.8.12"
  }
 },
 "nbformat": 4,
 "nbformat_minor": 5
}
